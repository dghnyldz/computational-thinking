{
 "cells": [
  {
   "cell_type": "markdown",
   "id": "36dbe34d",
   "metadata": {},
   "source": [
    "Hello World!"
   ]
  },
  {
   "cell_type": "code",
   "execution_count": 1,
   "id": "77c545ce",
   "metadata": {},
   "outputs": [],
   "source": [
    "x=10\n",
    "y=2\n",
    "z=x+y"
   ]
  },
  {
   "cell_type": "code",
   "execution_count": 2,
   "id": "52a20c27",
   "metadata": {},
   "outputs": [
    {
     "data": {
      "text/plain": [
       "12"
      ]
     },
     "execution_count": 2,
     "metadata": {},
     "output_type": "execute_result"
    }
   ],
   "source": [
    "z"
   ]
  },
  {
   "cell_type": "markdown",
   "id": "e7e1112d",
   "metadata": {},
   "source": [
    "This is just an exercise."
   ]
  },
  {
   "cell_type": "code",
   "execution_count": 1,
   "id": "b93ed43f",
   "metadata": {},
   "outputs": [],
   "source": [
    "names=[\"Qing\", \"Françoise\", \"Raúl\", \"Bjork\",\"Marie\"]\n",
    "ages=[32,33,28,30,29]\n",
    "country=[\"China\", \"Senegal\", \"España\", \"Norway\",\"Korea\"]\n",
    "education=[\"Bach\", \"Bach\", \"Master\", \"PhD\",\"PhD\"]"
   ]
  },
  {
   "cell_type": "code",
   "execution_count": 2,
   "id": "3bd35b55",
   "metadata": {},
   "outputs": [
    {
     "data": {
      "text/plain": [
       "32"
      ]
     },
     "execution_count": 2,
     "metadata": {},
     "output_type": "execute_result"
    }
   ],
   "source": [
    "ages[0]"
   ]
  },
  {
   "cell_type": "code",
   "execution_count": 3,
   "id": "28fbdc35",
   "metadata": {},
   "outputs": [
    {
     "data": {
      "text/plain": [
       "29"
      ]
     },
     "execution_count": 3,
     "metadata": {},
     "output_type": "execute_result"
    }
   ],
   "source": [
    "ages[4]"
   ]
  },
  {
   "cell_type": "code",
   "execution_count": 4,
   "id": "43c617c7",
   "metadata": {},
   "outputs": [
    {
     "data": {
      "text/plain": [
       "[33, 28, 30]"
      ]
     },
     "execution_count": 4,
     "metadata": {},
     "output_type": "execute_result"
    }
   ],
   "source": [
    "ages[1:-1]"
   ]
  },
  {
   "cell_type": "code",
   "execution_count": 5,
   "id": "c34c8a60",
   "metadata": {},
   "outputs": [
    {
     "data": {
      "text/plain": [
       "[32, 33, 28]"
      ]
     },
     "execution_count": 5,
     "metadata": {},
     "output_type": "execute_result"
    }
   ],
   "source": [
    "ages[:-2]"
   ]
  },
  {
   "cell_type": "code",
   "execution_count": 6,
   "id": "cec2f165",
   "metadata": {},
   "outputs": [
    {
     "ename": "NameError",
     "evalue": "name 'itemgetter' is not defined",
     "output_type": "error",
     "traceback": [
      "\u001b[1;31m---------------------------------------------------------------------------\u001b[0m",
      "\u001b[1;31mNameError\u001b[0m                                 Traceback (most recent call last)",
      "\u001b[1;32m~\\AppData\\Local\\Temp/ipykernel_9192/616546500.py\u001b[0m in \u001b[0;36m<module>\u001b[1;34m\u001b[0m\n\u001b[1;32m----> 1\u001b[1;33m \u001b[0mlist\u001b[0m\u001b[1;33m(\u001b[0m\u001b[0mitemgetter\u001b[0m\u001b[1;33m(\u001b[0m\u001b[1;36m0\u001b[0m\u001b[1;33m,\u001b[0m\u001b[1;36m2\u001b[0m\u001b[1;33m,\u001b[0m\u001b[1;36m3\u001b[0m\u001b[1;33m)\u001b[0m\u001b[1;33m(\u001b[0m\u001b[0mages\u001b[0m\u001b[1;33m)\u001b[0m\u001b[1;33m)\u001b[0m\u001b[1;33m\u001b[0m\u001b[1;33m\u001b[0m\u001b[0m\n\u001b[0m",
      "\u001b[1;31mNameError\u001b[0m: name 'itemgetter' is not defined"
     ]
    }
   ],
   "source": [
    "list(itemgetter(0,2,3)(ages))"
   ]
  },
  {
   "cell_type": "code",
   "execution_count": 7,
   "id": "bc92da5e",
   "metadata": {},
   "outputs": [
    {
     "data": {
      "text/plain": [
       "[32, 28, 30]"
      ]
     },
     "execution_count": 7,
     "metadata": {},
     "output_type": "execute_result"
    }
   ],
   "source": [
    "from operator import itemgetter\n",
    "list(itemgetter(0,2,3)(ages))"
   ]
  },
  {
   "cell_type": "code",
   "execution_count": 8,
   "id": "e67fcf6c",
   "metadata": {},
   "outputs": [
    {
     "data": {
      "text/plain": [
       "[32, 28, 30]"
      ]
     },
     "execution_count": 8,
     "metadata": {},
     "output_type": "execute_result"
    }
   ],
   "source": [
    "ages[0:4:2] + [ages[3]]"
   ]
  },
  {
   "cell_type": "code",
   "execution_count": 9,
   "id": "ac536502",
   "metadata": {},
   "outputs": [],
   "source": [
    "country[2]=\"Spain\""
   ]
  },
  {
   "cell_type": "code",
   "execution_count": 10,
   "id": "70c236fb",
   "metadata": {},
   "outputs": [
    {
     "data": {
      "text/plain": [
       "['China', 'Senegal', 'Spain', 'Norway', 'Korea']"
      ]
     },
     "execution_count": 10,
     "metadata": {},
     "output_type": "execute_result"
    }
   ],
   "source": [
    "country"
   ]
  },
  {
   "cell_type": "code",
   "execution_count": null,
   "id": "a3507756",
   "metadata": {},
   "outputs": [],
   "source": []
  }
 ],
 "metadata": {
  "kernelspec": {
   "display_name": "Python 3 (ipykernel)",
   "language": "python",
   "name": "python3"
  },
  "language_info": {
   "codemirror_mode": {
    "name": "ipython",
    "version": 3
   },
   "file_extension": ".py",
   "mimetype": "text/x-python",
   "name": "python",
   "nbconvert_exporter": "python",
   "pygments_lexer": "ipython3",
   "version": "3.9.7"
  }
 },
 "nbformat": 4,
 "nbformat_minor": 5
}
